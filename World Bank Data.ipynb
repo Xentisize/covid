{
 "cells": [
  {
   "cell_type": "code",
   "execution_count": null,
   "metadata": {},
   "outputs": [],
   "source": [
    "import pandas as pd\n",
    "import numpy as np"
   ]
  },
  {
   "cell_type": "markdown",
   "metadata": {},
   "source": [
    "## Data Source\n",
    "- \"data/DB_Indicators.xlsx\" => World Bank's economics indicators  \n",
    "The last 5 rows are footer, so they will be dropped."
   ]
  },
  {
   "cell_type": "code",
   "execution_count": null,
   "metadata": {},
   "outputs": [],
   "source": [
    "df = pd.read_excel(\"data/DB_Indicators.xlsx\")[:-5]"
   ]
  },
  {
   "cell_type": "markdown",
   "metadata": {},
   "source": [
    "## Removing outliers by existing values\n",
    "1. If 2017 is NaN, fill it with 2018's values\n",
    "2. If 2018 is NaN, fill it with 2017's values\n",
    "3. If 2019 is NaN, fill it with the mean of 2017 & 2018"
   ]
  },
  {
   "cell_type": "code",
   "execution_count": 71,
   "metadata": {},
   "outputs": [],
   "source": [
    "df.loc[df[\"2017\"].isnull(), \"2017\"] = df[\"2018\"]\n",
    "df.loc[df[\"2018\"].isnull(), \"2018\"] = df[\"2017\"]\n",
    "df.loc[df[\"2019\"].isnull(), \"2019\"] = (df[\"2017\"] + df[\"2018\"]) /2"
   ]
  },
  {
   "cell_type": "markdown",
   "metadata": {},
   "source": [
    "## Calculating the mean with values from 2017 to 2019"
   ]
  },
  {
   "cell_type": "code",
   "execution_count": 91,
   "metadata": {},
   "outputs": [],
   "source": [
    "df[\"Mean\"] = df.mean(numeric_only=True, axis=1)"
   ]
  },
  {
   "cell_type": "code",
   "execution_count": 78,
   "metadata": {},
   "outputs": [],
   "source": [
    "directory_path = \"/mnt/s/Downloads/\"\n",
    "file_name = \"cleaned_DB_Indicators.xlsx\"\n",
    "full_directory_path = directory_path + file_name\n",
    "writer = pd.ExcelWriter(full_directory_path, engine=\"xlsxwriter\")\n",
    "df.to_excel(writer, sheet_name=\"World Indicator\", index=False)\n",
    "writer.save()"
   ]
  },
  {
   "cell_type": "markdown",
   "metadata": {},
   "source": [
    "## Extract column names and countries name"
   ]
  },
  {
   "cell_type": "code",
   "execution_count": 111,
   "metadata": {},
   "outputs": [
    {
     "data": {
      "text/plain": [
       "['Adjusted net national income per capita (current US$)',\n",
       " 'UHC service coverage index',\n",
       " 'International tourism, number of arrivals',\n",
       " 'Rail lines (total route-km)',\n",
       " 'Fixed broadband subscriptions (per 100 people)',\n",
       " 'Fixed telephone subscriptions (per 100 people)',\n",
       " 'Mobile cellular subscriptions (per 100 people)',\n",
       " 'Current health expenditure (% of GDP)',\n",
       " 'Domestic general government health expenditure per capita, PPP (current international $)',\n",
       " 'PM2.5 air pollution, mean annual exposure (micrograms per cubic meter)',\n",
       " 'Nitrous oxide emissions (thousand metric tons of CO2 equivalent)',\n",
       " 'Population density (people per sq. km of land area)',\n",
       " 'Urban population (% of total population)',\n",
       " 'GDP per capita (current US$)']"
      ]
     },
     "execution_count": 111,
     "metadata": {},
     "output_type": "execute_result"
    }
   ],
   "source": [
    "series_name = df[\"Series Name\"][0:14].to_list()\n",
    "countries_name = df[\"Country Name\"][::14].to_list()"
   ]
  },
  {
   "cell_type": "markdown",
   "metadata": {},
   "source": [
    "## Extact each 14 data of a country into a list"
   ]
  },
  {
   "cell_type": "code",
   "execution_count": 112,
   "metadata": {},
   "outputs": [],
   "source": [
    "rows = []\n",
    "data = []\n",
    "for index, row in df.iterrows():\n",
    "    data.append(row[\"Mean\"])\n",
    "    \n",
    "    if (index+1) % 14 == 0 and index != 0:\n",
    "        rows.append(data)\n",
    "        data = []"
   ]
  },
  {
   "cell_type": "code",
   "execution_count": 116,
   "metadata": {},
   "outputs": [],
   "source": [
    "df_aggregated = pd.DataFrame(data=rows, index=countries_name, columns=series_name)"
   ]
  },
  {
   "cell_type": "code",
   "execution_count": 119,
   "metadata": {},
   "outputs": [],
   "source": [
    "directory_path = \"/mnt/s/Downloads/\"\n",
    "file_name = \"aggregated_DB_Indicators.xlsx\"\n",
    "full_directory_path = directory_path + file_name\n",
    "writer = pd.ExcelWriter(full_directory_path, engine=\"xlsxwriter\")\n",
    "df_aggregated.to_excel(writer, sheet_name=\"World Indicator\")\n",
    "writer.save()"
   ]
  },
  {
   "cell_type": "markdown",
   "metadata": {},
   "source": [
    "## Data Source\n",
    "- \"data/DB_Nutrition.xlsx\" => World Bank's healtlh indicators  \n",
    "The last 5 rows are footer, so they will be dropped."
   ]
  },
  {
   "cell_type": "code",
   "execution_count": 133,
   "metadata": {},
   "outputs": [],
   "source": [
    "df_n = pd.read_excel(\"data/DB_Nutrition.xlsx\")[:-5]"
   ]
  },
  {
   "cell_type": "code",
   "execution_count": 134,
   "metadata": {},
   "outputs": [],
   "source": [
    "df_n.loc[df[\"2017\"].isnull(), \"2017\"] = df[\"2018\"]\n",
    "df_n.loc[df[\"2018\"].isnull(), \"2018\"] = df[\"2017\"]\n",
    "df_n.loc[df[\"2019\"].isnull(), \"2019\"] = (df[\"2017\"] + df[\"2018\"]) /2\n",
    "df_n[\"Mean\"] = df.mean(numeric_only=True, axis=1)"
   ]
  },
  {
   "cell_type": "code",
   "execution_count": 139,
   "metadata": {},
   "outputs": [
    {
     "data": {
      "text/plain": [
       "True"
      ]
     },
     "execution_count": 139,
     "metadata": {},
     "output_type": "execute_result"
    }
   ],
   "source": [
    "nutrition_series_name = df_n[\"Series Name\"][:9].to_list()\n",
    "nutrition_countries_name = df_n[\"Country Name\"][::9].to_list()\n",
    "nutrition_countries_name == countries_name"
   ]
  },
  {
   "cell_type": "code",
   "execution_count": 140,
   "metadata": {},
   "outputs": [],
   "source": [
    "rows = []\n",
    "data = []\n",
    "for index, row in df_n.iterrows():\n",
    "    data.append(row[\"Mean\"])\n",
    "    \n",
    "    if (index+1) % 9 == 0 and index != 0:\n",
    "        rows.append(data)\n",
    "        data = []"
   ]
  },
  {
   "cell_type": "code",
   "execution_count": 142,
   "metadata": {},
   "outputs": [],
   "source": [
    "df_aggregated_n = pd.DataFrame(data=rows, index=countries_name, columns=nutrition_series_name)"
   ]
  },
  {
   "cell_type": "code",
   "execution_count": 148,
   "metadata": {},
   "outputs": [],
   "source": [
    "aggregated_result = pd.concat([df_aggregated, df_aggregated_n], axis=1, join=\"inner\")"
   ]
  },
  {
   "cell_type": "code",
   "execution_count": 149,
   "metadata": {},
   "outputs": [],
   "source": [
    "directory_path = \"/mnt/s/Downloads/\"\n",
    "file_name = \"aggregated_all.xlsx\"\n",
    "full_directory_path = directory_path + file_name\n",
    "writer = pd.ExcelWriter(full_directory_path, engine=\"xlsxwriter\")\n",
    "aggregated_result.to_excel(writer, sheet_name=\"All indicators\")\n",
    "writer.save()"
   ]
  },
  {
   "cell_type": "markdown",
   "metadata": {},
   "source": [
    "## Confirmed cases and death cases"
   ]
  },
  {
   "cell_type": "code",
   "execution_count": 202,
   "metadata": {},
   "outputs": [],
   "source": [
    "df_confirmed = pd.read_csv(\"data/confirmed_cases.csv\")"
   ]
  },
  {
   "cell_type": "code",
   "execution_count": 203,
   "metadata": {},
   "outputs": [],
   "source": [
    "hk_index = df_confirmed.loc[df_confirmed[\"Province\"] == \"Hong Kong\"]\n",
    "macau_index = df_confirmed.loc[df_confirmed[\"Province\"] == \"Macau\"]"
   ]
  },
  {
   "cell_type": "markdown",
   "metadata": {},
   "source": [
    "Hong Kong and Macau shall be seperated from China in the calculation."
   ]
  },
  {
   "cell_type": "code",
   "execution_count": 209,
   "metadata": {},
   "outputs": [
    {
     "data": {
      "text/html": [
       "<div>\n",
       "<style scoped>\n",
       "    .dataframe tbody tr th:only-of-type {\n",
       "        vertical-align: middle;\n",
       "    }\n",
       "\n",
       "    .dataframe tbody tr th {\n",
       "        vertical-align: top;\n",
       "    }\n",
       "\n",
       "    .dataframe thead th {\n",
       "        text-align: right;\n",
       "    }\n",
       "</style>\n",
       "<table border=\"1\" class=\"dataframe\">\n",
       "  <thead>\n",
       "    <tr style=\"text-align: right;\">\n",
       "      <th></th>\n",
       "      <th>Province</th>\n",
       "      <th>Country</th>\n",
       "      <th>Confirmed</th>\n",
       "    </tr>\n",
       "  </thead>\n",
       "  <tbody>\n",
       "    <tr>\n",
       "      <th>60</th>\n",
       "      <td>Henan</td>\n",
       "      <td>China</td>\n",
       "      <td>1276</td>\n",
       "    </tr>\n",
       "    <tr>\n",
       "      <th>61</th>\n",
       "      <td>Hong Kong</td>\n",
       "      <td>Hong Kong</td>\n",
       "      <td>714</td>\n",
       "    </tr>\n",
       "    <tr>\n",
       "      <th>62</th>\n",
       "      <td>Hubei</td>\n",
       "      <td>China</td>\n",
       "      <td>67801</td>\n",
       "    </tr>\n",
       "    <tr>\n",
       "      <th>63</th>\n",
       "      <td>Hunan</td>\n",
       "      <td>China</td>\n",
       "      <td>1018</td>\n",
       "    </tr>\n",
       "    <tr>\n",
       "      <th>64</th>\n",
       "      <td>Inner Mongolia</td>\n",
       "      <td>China</td>\n",
       "      <td>107</td>\n",
       "    </tr>\n",
       "    <tr>\n",
       "      <th>65</th>\n",
       "      <td>Jiangsu</td>\n",
       "      <td>China</td>\n",
       "      <td>646</td>\n",
       "    </tr>\n",
       "    <tr>\n",
       "      <th>66</th>\n",
       "      <td>Jiangxi</td>\n",
       "      <td>China</td>\n",
       "      <td>937</td>\n",
       "    </tr>\n",
       "    <tr>\n",
       "      <th>67</th>\n",
       "      <td>Jilin</td>\n",
       "      <td>China</td>\n",
       "      <td>98</td>\n",
       "    </tr>\n",
       "    <tr>\n",
       "      <th>68</th>\n",
       "      <td>Liaoning</td>\n",
       "      <td>China</td>\n",
       "      <td>139</td>\n",
       "    </tr>\n",
       "    <tr>\n",
       "      <th>69</th>\n",
       "      <td>Macau</td>\n",
       "      <td>Macau</td>\n",
       "      <td>41</td>\n",
       "    </tr>\n",
       "  </tbody>\n",
       "</table>\n",
       "</div>"
      ],
      "text/plain": [
       "          Province    Country  Confirmed\n",
       "60           Henan      China       1276\n",
       "61       Hong Kong  Hong Kong        714\n",
       "62           Hubei      China      67801\n",
       "63           Hunan      China       1018\n",
       "64  Inner Mongolia      China        107\n",
       "65         Jiangsu      China        646\n",
       "66         Jiangxi      China        937\n",
       "67           Jilin      China         98\n",
       "68        Liaoning      China        139\n",
       "69           Macau      Macau         41"
      ]
     },
     "execution_count": 209,
     "metadata": {},
     "output_type": "execute_result"
    }
   ],
   "source": [
    "df_confirmed.loc[hk_index.index, \"Country\"] = \"Hong Kong\"\n",
    "df_confirmed.loc[macau_index.index, \"Country\"] = \"Macau\""
   ]
  },
  {
   "cell_type": "code",
   "execution_count": 210,
   "metadata": {},
   "outputs": [],
   "source": [
    "df_confirmed[\"Total\"] = df_confirmed.groupby([\"Country\"])[\"Confirmed\"].transform(\"sum\")"
   ]
  },
  {
   "cell_type": "code",
   "execution_count": 211,
   "metadata": {},
   "outputs": [],
   "source": [
    "df_c = df_confirmed.drop_duplicates(\"Country\")"
   ]
  },
  {
   "cell_type": "code",
   "execution_count": 217,
   "metadata": {},
   "outputs": [],
   "source": [
    "del df_c[\"Province\"]"
   ]
  },
  {
   "cell_type": "code",
   "execution_count": 219,
   "metadata": {},
   "outputs": [],
   "source": [
    "del df_c[\"Confirmed\"]"
   ]
  },
  {
   "cell_type": "code",
   "execution_count": null,
   "metadata": {},
   "outputs": [],
   "source": []
  }
 ],
 "metadata": {
  "kernelspec": {
   "display_name": "Python 3",
   "language": "python",
   "name": "python3"
  },
  "language_info": {
   "codemirror_mode": {
    "name": "ipython",
    "version": 3
   },
   "file_extension": ".py",
   "mimetype": "text/x-python",
   "name": "python",
   "nbconvert_exporter": "python",
   "pygments_lexer": "ipython3",
   "version": "3.8.2"
  }
 },
 "nbformat": 4,
 "nbformat_minor": 4
}
